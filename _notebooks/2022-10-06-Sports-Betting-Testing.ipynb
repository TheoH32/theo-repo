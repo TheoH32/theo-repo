{
 "cells": [
  {
   "cell_type": "code",
   "execution_count": 18,
   "metadata": {},
   "outputs": [
    {
     "name": "stdout",
     "output_type": "stream",
     "text": [
      "Team Names\n",
      "id 3\n",
      "sport_id 1\n",
      "category_id 40\n",
      "venue_id 3\n",
      "manager_id 5\n",
      "slug norwich-city\n",
      "name Norwich City\n",
      "has_logo True\n",
      "logo https://tipsscore.com/resb/team/norwich-city.png\n",
      "name_translations {'en': 'Norwich City', 'ru': 'Норвич Сити', 'de': 'Norwich City', 'es': 'Norwich City', 'fr': 'Norwich City', 'zh': '诺维奇', 'tr': 'Norwich City', 'el': 'Νόργουιτς', 'it': 'Norwich', 'nl': 'Norwich City', 'pt': 'Norwich City FC'}\n",
      "name_short Norwich\n",
      "name_full Norwich City\n",
      "name_code NOR\n",
      "has_sub False\n",
      "gender M\n",
      "is_nationality False\n",
      "country_code ENG\n",
      "country England\n",
      "flag england\n",
      "foundation None\n",
      "details None\n"
     ]
    }
   ],
   "source": [
    "import requests\n",
    "\n",
    "url = \"https://sportscore1.p.rapidapi.com/sports/1/teams\"\n",
    "\n",
    "querystring = {\"page\":\"1\"}\n",
    "\n",
    "headers = {\n",
    "\t\"X-RapidAPI-Key\": \"3120bd59femsh68afa880283ffa6p186c2bjsnba94f7e3f5ad\",\n",
    "\t\"X-RapidAPI-Host\": \"sportscore1.p.rapidapi.com\"\n",
    "}\n",
    "\n",
    "response = requests.request(\"GET\", url, headers=headers, params=querystring)\n",
    "            \n",
    "print(\"Team Names\")\n",
    "sport_data = response.json().get('data')\n",
    "for tname in sport_data:\n",
    "    if tname [\"name\"] == \"Norwich City\":  # this filters for whatever is in quotes\n",
    "        for key, value in tname.items():  # this finds key, value pairs\n",
    "            print(key, value)\n"
   ]
  }
 ],
 "metadata": {
  "kernelspec": {
   "display_name": "Python 3.9.12 ('base')",
   "language": "python",
   "name": "python3"
  },
  "language_info": {
   "codemirror_mode": {
    "name": "ipython",
    "version": 3
   },
   "file_extension": ".py",
   "mimetype": "text/x-python",
   "name": "python",
   "nbconvert_exporter": "python",
   "pygments_lexer": "ipython3",
   "version": "3.9.12"
  },
  "orig_nbformat": 4,
  "vscode": {
   "interpreter": {
    "hash": "40d3a090f54c6569ab1632332b64b2c03c39dcf918b08424e98f38b5ae0af88f"
   }
  }
 },
 "nbformat": 4,
 "nbformat_minor": 2
}
