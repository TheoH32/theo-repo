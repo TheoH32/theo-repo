{
 "cells": [
  {
   "cell_type": "markdown",
   "metadata": {},
   "source": [
    "# Section 16 Hacks\n",
    "\n",
    "- toc: true\n",
    "- comments: true"
   ]
  },
  {
   "cell_type": "markdown",
   "metadata": {},
   "source": [
    "## Notes\n",
    "\n",
    "Simulations are system based processes that can be used to study behavior and different outcomes for multiple conditions. Simulations are mostly based on mathematical and statistical models which run through situations that are hard to analyze directly\n",
    "\n",
    "Experiments are controlled studies that directly study behavioral and mathematical systems. In most circumstances, these involve changing certain variables to alter and study the outcomes."
   ]
  },
  {
   "cell_type": "markdown",
   "metadata": {},
   "source": [
    "## Answers"
   ]
  },
  {
   "cell_type": "markdown",
   "metadata": {},
   "source": [
    "| Theodore Huntalas |                   |\n",
    "|-------------------|-------------------|\n",
    "| ----------------- | ----------------- |\n",
    "| Question          | Answer            |\n",
    "| ----------------- | ----------------- |\n",
    "| 1                 | N/A               |\n",
    "| 2                 | N/A               |\n",
    "| 3                 | C                 |\n",
    "| 4                 | B                 |\n",
    "| 5                 | C                 |\n",
    "| 6                 | A                 |\n",
    "| 7                 | A                 |\n",
    "| 8                 | N/A               |\n",
    "| 9                 | B                 |"
   ]
  },
  {
   "cell_type": "code",
   "execution_count": 102,
   "metadata": {},
   "outputs": [
    {
     "name": "stdout",
     "output_type": "stream",
     "text": [
      "Raw Data\n",
      "One: 163 times or 16.3 %\n",
      "Two: 174 times or 17.4 %\n",
      "Three: 182 times or 18.2 %\n",
      "Four: 157 times or 15.7 %\n",
      "Five: 171 times or 17.1 %\n",
      "Six: 153 times or 15.3 %\n",
      " \n",
      "Table Format\n",
      "--------------------------------------\n",
      "| Number | Times Rolled | Percentage |\n",
      "--------------------------------------\n",
      "|   #1   |      163     |   16.3 %   |\n",
      "--------------------------------------\n",
      "|   #2   |      174     |   17.4 %   |\n",
      "--------------------------------------\n",
      "|   #3   |      182     |   18.2 %   |\n",
      "--------------------------------------\n",
      "|   #4   |      157     |   15.7 %   |\n",
      "--------------------------------------\n",
      "|   #5   |      171     |   17.1 %   |\n",
      "--------------------------------------\n",
      "|   #6   |      153     |   15.3 %   |\n",
      "--------------------------------------\n"
     ]
    }
   ],
   "source": [
    "import random\n",
    "\n",
    "def diceRoll():\n",
    "    x=0\n",
    "    diceOne = 0\n",
    "    diceTwo = 0\n",
    "    diceThree = 0\n",
    "    diceFour = 0\n",
    "    diceFive = 0\n",
    "    diceSix = 0\n",
    "    while x < 1000:\n",
    "        diceNum = random.randrange(1,7)\n",
    "\n",
    "        if diceNum == 1:\n",
    "            diceOne = diceOne + 1\n",
    "\n",
    "        if diceNum == 2:\n",
    "            diceTwo = diceTwo + 1\n",
    "\n",
    "        if diceNum == 3:\n",
    "            diceThree = diceThree + 1\n",
    "\n",
    "        if diceNum == 4:\n",
    "            diceFour = diceFour + 1\n",
    "\n",
    "        if diceNum == 5:\n",
    "            diceFive = diceFive + 1\n",
    "\n",
    "        if diceNum == 6:\n",
    "            diceSix = diceSix + 1\n",
    "        \n",
    "        x = x+1\n",
    "    OneP = diceOne/10\n",
    "    TwoP = diceTwo/10\n",
    "    ThreeP = diceThree/10\n",
    "    FourP = diceFour/10\n",
    "    FiveP = diceFive/10\n",
    "    SixP = diceSix/10\n",
    "\n",
    "    print(\"Raw Data\")\n",
    "    print(\"One:\",diceOne,\"times or\",OneP,\"%\")\n",
    "    print(\"Two:\",diceTwo,\"times or\",TwoP,\"%\")\n",
    "    print(\"Three:\",diceThree,\"times or\",ThreeP,\"%\")\n",
    "    print(\"Four:\",diceFour,\"times or\",FourP,\"%\")\n",
    "    print(\"Five:\",diceFive,\"times or\",FiveP,\"%\")\n",
    "    print(\"Six:\",diceSix,\"times or\",SixP,\"%\")\n",
    "    \n",
    "    print(\" \")\n",
    "\n",
    "    print(\"Table Format\")\n",
    "    print(\"--------------------------------------\")\n",
    "    print(\"|\",\"Number\",\"|\",\"Times Rolled\",\"|\",\"Percentage\",\"|\")\n",
    "    print(\"--------------------------------------\")\n",
    "    print(\"|\",\" \",\"#1\",\" \",\"|\",\"    \",diceOne,\"   \",\"|\",\" \",OneP,\"%\",\" \",\"|\")\n",
    "    print(\"--------------------------------------\")\n",
    "    print(\"|\",\" \",\"#2\",\" \",\"|\",\"    \",diceTwo,\"   \",\"|\",\" \",TwoP,\"%\",\" \",\"|\")\n",
    "    print(\"--------------------------------------\")\n",
    "    print(\"|\",\" \",\"#3\",\" \",\"|\",\"    \",diceThree,\"   \",\"|\",\" \",ThreeP,\"%\",\" \",\"|\")\n",
    "    print(\"--------------------------------------\")\n",
    "    print(\"|\",\" \",\"#4\",\" \",\"|\",\"    \",diceFour,\"   \",\"|\",\" \",FourP,\"%\",\" \",\"|\")\n",
    "    print(\"--------------------------------------\")\n",
    "    print(\"|\",\" \",\"#5\",\" \",\"|\",\"    \",diceFive,\"   \",\"|\",\" \",FiveP,\"%\",\" \",\"|\")\n",
    "    print(\"--------------------------------------\")\n",
    "    print(\"|\",\" \",\"#6\",\" \",\"|\",\"    \",diceSix,\"   \",\"|\",\" \",SixP,\"%\",\" \",\"|\")\n",
    "    print(\"--------------------------------------\")\n",
    "  \n",
    "\n",
    "\n",
    "diceRoll()"
   ]
  }
 ],
 "metadata": {
  "kernelspec": {
   "display_name": "Python 3.8.2 64-bit",
   "language": "python",
   "name": "python3"
  },
  "language_info": {
   "codemirror_mode": {
    "name": "ipython",
    "version": 3
   },
   "file_extension": ".py",
   "mimetype": "text/x-python",
   "name": "python",
   "nbconvert_exporter": "python",
   "pygments_lexer": "ipython3",
   "version": "3.8.2"
  },
  "orig_nbformat": 4,
  "vscode": {
   "interpreter": {
    "hash": "31f2aee4e71d21fbe5cf8b01ff0e069b9275f58929596ceb00d14d90e3e16cd6"
   }
  }
 },
 "nbformat": 4,
 "nbformat_minor": 2
}
