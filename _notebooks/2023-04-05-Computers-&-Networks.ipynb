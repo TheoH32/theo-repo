{
 "cells": [
  {
   "cell_type": "markdown",
   "metadata": {},
   "source": [
    "# Computers and Networks Hacks\n",
    "> AP prep\n",
    "- toc: true\n",
    "- categories: []\n",
    "- week: 29"
   ]
  },
  {
   "cell_type": "markdown",
   "metadata": {},
   "source": [
    "### Computer Specs\n",
    "- Processor GHz: 2.2 GHz Dual-Core Intel Core i7\n",
    "- Memory in GB: 8 GB 1600 MHz DDR3\n",
    "- Storage in GB: 256gb\n",
    "- OS: macOS Monterey"
   ]
  },
  {
   "cell_type": "markdown",
   "metadata": {},
   "source": [
    "### Define or describe usage of Computer using Computer Programs. Pictures are preferred over a lot of text. Use your experience.\n",
    "\n",
    "- Input devices:\n",
    "- Output devices:\n",
    "- Program File:\n",
    "- Program Code:\n",
    "- Processes:\n",
    "- Ports:\n",
    "- Data File:\n",
    "- Inspect Running Code:\n",
    "- Inspect Variables:\n"
   ]
  },
  {
   "cell_type": "markdown",
   "metadata": {},
   "source": [
    "MATCH THE PHRASES\n",
    "\n",
    "- Path\n",
    "- Route\n",
    "- Computer System\n",
    "- Computer Device\n",
    "- Bandwidth\n",
    "- Computer Network\n",
    "\n",
    "A computing device is a physical artifact that can run a program. Some examples include computers, tablets, servers, routers, and smart sensors.\n",
    "\n",
    "A computing system is a group of computing devices and programs working together for a common purpose.\n",
    "\n",
    "A computer network is a group of interconnected computing devices capable of sending or receiving data.\n",
    "\n",
    "A computer network is a type of computing system.\n",
    "A path between two computing devices on a computer network (a sender and a receiver) is a sequence of directly connected computing devices that begins at the sender and ends at the receiver.\n",
    "\n",
    "Routing is the process of finding a path from sender to receiver.\n",
    "The bandwidth of a computer network is the maximum amount of data that can be sent in a fixed amount of time.\n",
    "\n",
    "Bandwidth is usually measured in bits per second"
   ]
  }
 ],
 "metadata": {
  "kernelspec": {
   "display_name": "Python 3.9.12 ('base')",
   "language": "python",
   "name": "python3"
  },
  "language_info": {
   "name": "python",
   "version": "3.9.12"
  },
  "orig_nbformat": 4,
  "vscode": {
   "interpreter": {
    "hash": "40d3a090f54c6569ab1632332b64b2c03c39dcf918b08424e98f38b5ae0af88f"
   }
  }
 },
 "nbformat": 4,
 "nbformat_minor": 2
}
