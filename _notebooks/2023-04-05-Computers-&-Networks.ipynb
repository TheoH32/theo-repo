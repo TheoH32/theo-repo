{
 "cells": [
  {
   "cell_type": "markdown",
   "metadata": {},
   "source": [
    "# Computers and Networks Hacks\n",
    "> AP prep\n",
    "- toc: true\n",
    "- categories: []\n",
    "- week: 29"
   ]
  },
  {
   "cell_type": "markdown",
   "metadata": {},
   "source": [
    "### Computer Specs\n",
    "- Processor GHz: 2.2 GHz Dual-Core Intel Core i7\n",
    "- Memory in GB: 8 GB 1600 MHz DDR3\n",
    "- Storage in GB: 256gb\n",
    "- OS: macOS Monterey"
   ]
  },
  {
   "cell_type": "markdown",
   "metadata": {},
   "source": [
    "### Define or describe usage of Computer using Computer Programs. Pictures are preferred over a lot of text. Use your experience.\n",
    "\n",
    "- Input devices: Things that allow users to enter inputs like a keyboard, mouse, microphone, scanner, or camera.\n",
    "\n",
    "- Output devices: Devices that let a computer give an output like a monitor, printer, speakers, or network card.\n",
    "\n",
    "- Program File: Files that have a certain extension like .exe, .dll, .so, .py, .app, or .jar.\n",
    "\n",
    "- Program Code: Languages that make up program files like Python, C++, Java, or JavaScript.\n",
    "\n",
    "- Processes: Instances that the computer executes which then takes up computing space and memory\n",
    "\n",
    "- Ports: A set of numbers that represent ends of a network connection\n",
    "\n",
    "- Data File: A file that holds a type of data\n",
    "\n",
    "- Inspect Running Code: This refers to the process of examining the code of a running computer program to understand its behavior, identify bugs, or make improvements. This can be done using tools such as debuggers, profiling tools, or logging frameworks.\n",
    "\n",
    "- Inspect Variables: This refers to the process of examining the values of variables used by a computer program at a particular point in time. This can be done using tools such as debuggers or logging frameworks.\n"
   ]
  },
  {
   "cell_type": "markdown",
   "metadata": {},
   "source": [
    "MATCH THE PHRASES\n",
    "\n",
    "- Path: A computer network is a type of computing system. A path between two computing devices on a computer network (a sender and a receiver) is a sequence of directly connected computing devices that begins at the sender and ends at the receiver.\n",
    "- Route: Routing is the process of finding a path from sender to receiver. The bandwidth of a computer network is the maximum amount of data that can be sent in a fixed amount of time.\n",
    "- Computer System: A computing system is a group of computing devices and programs working together for a common purpose.\n",
    "- Computer Device: A computing device is a physical artifact that can run a program. Some examples include computers, tablets, servers, routers, and smart sensors.\n",
    "- Bandwidth: Bandwidth is usually measured in bits per second\n",
    "- Computer Network: A computer network is a group of interconnected computing devices capable of sending or receiving data.\n",
    "\n",
    "\n",
    "\n",
    "\n"
   ]
  }
 ],
 "metadata": {
  "kernelspec": {
   "display_name": "Python 3.9.12 ('base')",
   "language": "python",
   "name": "python3"
  },
  "language_info": {
   "name": "python",
   "version": "3.9.12"
  },
  "orig_nbformat": 4,
  "vscode": {
   "interpreter": {
    "hash": "40d3a090f54c6569ab1632332b64b2c03c39dcf918b08424e98f38b5ae0af88f"
   }
  }
 },
 "nbformat": 4,
 "nbformat_minor": 2
}
