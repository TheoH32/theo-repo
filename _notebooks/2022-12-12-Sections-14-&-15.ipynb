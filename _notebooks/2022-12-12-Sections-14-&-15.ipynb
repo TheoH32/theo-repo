{
 "cells": [
  {
   "cell_type": "markdown",
   "metadata": {},
   "source": [
    "# Sections 14 & 15 Hacks\n",
    "\n",
    "- toc: true\n",
    "- comments: true"
   ]
  },
  {
   "cell_type": "markdown",
   "metadata": {},
   "source": [
    "## Question 1 - Notes\n",
    "\n",
    "Documentation is vital for others or for yourself to understand your code later on. Over documenting is never hurtful but underdocumenting is. Libraries are collections of code and scripts that can provide faster solvents to problems. API's are also useful for using pre-determined data. \n",
    "\n",
    "Randomization is useful for algorithms that rely on things of chance. \"import random\" is needed as it provides random scripting. Number ranges are also needed for setting boundaries. A couple things you can do are random shuffles and choices.\n"
   ]
  },
  {
   "cell_type": "markdown",
   "metadata": {},
   "source": [
    "Give explanations for each questions"
   ]
  },
  {
   "cell_type": "markdown",
   "metadata": {},
   "source": [
    "## Question 2"
   ]
  },
  {
   "cell_type": "markdown",
   "metadata": {},
   "source": [
    "1. random(a,b) generates\n",
    "\n",
    "\n",
    "B) A random integer from a to b inclusive\n",
    "\n",
    "\n",
    "random(a,b) does this due to the user setting a range from a to b. If you want it to differ, then you have to change the range.\n",
    "\n",
    "-----------\n",
    "\n",
    "2. What is x, y, and z in random.randrange(x,y,z)?\n",
    "\n",
    "A) x = start, y = stop, z = step\n",
    "\n",
    "X is the number that starts it.  Y is where it ends. Z is what step it is on\n",
    "\n",
    "-----------\n",
    "\n",
    "3. Which of the following is not part of the random library\n",
    "\n",
    "A) random.item\n",
    "\n",
    "random.random, random.shuffle, and random.randint are all apart of the library are were in the lesson plan\n",
    "\n",
    "\n",
    "\n"
   ]
  },
  {
   "cell_type": "markdown",
   "metadata": {},
   "source": [
    "## Question 3"
   ]
  },
  {
   "cell_type": "markdown",
   "metadata": {},
   "source": [
    "1. Libraries have a distinct advantage of having pre-written code that can provide efficiency at a linear level. This cuts out time that the user has to write repetitive code. Therefore the user can spend more time on the creative and work process then repetitive code writing."
   ]
  },
  {
   "cell_type": "code",
   "execution_count": 6,
   "metadata": {},
   "outputs": [
    {
     "name": "stdout",
     "output_type": "stream",
     "text": [
      "Theo is going to buy the meal today!\n"
     ]
    }
   ],
   "source": [
    "import random \n",
    "# using import random defines a series of functions and code that is critical for random processes. This is needed for and of the random uses in the python libraries.\n",
    "\n",
    "names_string = input(\"Give me everybody's names, seperated by a comma.\")\n",
    "# What this does is ask for user input to define what names are used later on. After the user input is entered, it is stored as a string which then defines the name variable.\n",
    "names = names_string.split(\",\")\n",
    "# Defines the name variable with the user input that was called on earlier\n",
    "\n",
    "num_items = len(names)\n",
    "# Defines this variables as the length of how many names were entered.\n",
    "\n",
    "random_choice = random.randint(0, num_items - 1)\n",
    "# Defines the random choice variable as a random integer from 0 to the number of items-1.\n",
    "\n",
    "person_who_will_pay = names[random_choice]\n",
    "# What this does is take a random choice of one of the names in the stored name data. Then it defines that variable as a singular name.\n",
    "\n",
    "print(f\"{person_who_will_pay} is going to buy the meal today!\")\n",
    "# This is the final print statement that calls on the variable which is defined as one of the randomized names that the user inputted."
   ]
  },
  {
   "cell_type": "code",
   "execution_count": 7,
   "metadata": {},
   "outputs": [
    {
     "name": "stdout",
     "output_type": "stream",
     "text": [
      "5 random names are\n",
      "Bailey\n",
      "Avery\n",
      "Ty\n",
      "Theo\n",
      "Theo\n"
     ]
    }
   ],
   "source": [
    "import random\n",
    "names = [\"Theo\",\"Drew\", \"Brady\", \"Elliot\", \"Ty\", \"Tristan\", \"Bailey\", \"Avery\", \"Liam\", \"Addi\", \"Kiana\", \"Keira\", \"Ethan\", \"Jess\", \"Anna\",] \n",
    "i = 0\n",
    "\n",
    "print(\"5 random names are\")\n",
    "while i < 5:\n",
    "    print(random.choice(names))\n",
    "    i += 1\n",
    "    "
   ]
  },
  {
   "cell_type": "code",
   "execution_count": 17,
   "metadata": {},
   "outputs": [
    {
     "name": "stdout",
     "output_type": "stream",
     "text": [
      "Player one rolled 9\n",
      "Player two rolled 10\n"
     ]
    }
   ],
   "source": [
    "import random\n",
    "\n",
    "def playerOne():\n",
    "    oneFirstRoll = 0\n",
    "    oneFirstRoll = random.randrange(1,6)\n",
    "    oneSecondRoll = 0\n",
    "    oneSecondRoll = random.randrange(1,6)\n",
    "    oneScore = oneFirstRoll + oneSecondRoll\n",
    "    return oneScore\n",
    "\n",
    "def playerTwo():\n",
    "    twoFirstRoll = 0\n",
    "    twoFirstRoll = random.randrange(1,6)\n",
    "    twoSecondRoll = 0\n",
    "    twoSecondRoll = random.randrange(1,6)\n",
    "    twoScore = twoFirstRoll + twoSecondRoll\n",
    "    return twoScore\n",
    "\n",
    "\n",
    "playerOne()\n",
    "print(\"Player one rolled\",playerOne())\n",
    "\n",
    "playerTwo()\n",
    "print(\"Player two rolled\",playerTwo())"
   ]
  },
  {
   "cell_type": "code",
   "execution_count": 9,
   "metadata": {},
   "outputs": [
    {
     "name": "stdout",
     "output_type": "stream",
     "text": [
      "The five randomized mazes are\n",
      "o x o x o\n",
      "o x o o o\n",
      "x x o x o\n",
      "o o S x x\n",
      "o o o F o\n",
      "----------------------\n",
      "S o o x o\n",
      "x o x x x\n",
      "o o F o x\n",
      "o o x o o\n",
      "x x o o o\n",
      "----------------------\n",
      "o S x x x\n",
      "o o x o o\n",
      "o o o x x\n",
      "F o x o o\n",
      "o o o x x\n",
      "----------------------\n",
      "S o o x o\n",
      "o x x o x\n",
      "o o o x x\n",
      "o o F x o\n",
      "o x o o o\n",
      "----------------------\n",
      "o o x x o\n",
      "o o o x x\n",
      "x x o x F\n",
      "o x x x S\n",
      "x x o o o\n",
      "----------------------\n"
     ]
    }
   ],
   "source": [
    "import random\n",
    "\n",
    "print(\"The five randomized mazes are\")\n",
    "x = 0\n",
    "while x < 5:\n",
    "    grid = [['o' for _ in range(5)] for _ in range(5)]\n",
    "\n",
    "    num_obstacles = 12\n",
    "    for i in range(num_obstacles):\n",
    "        row = random.randint(0, 4)\n",
    "        col = random.randint(0, 4)\n",
    "        grid[row][col] = 'x'\n",
    "\n",
    "    start_row = random.randint(0, 4)\n",
    "    start_column = random.randint(0, 4)\n",
    "    grid[start_row][start_column] = 'S'\n",
    "\n",
    "    finish_row = random.randint(0, 4)\n",
    "    finish_column = random.randint(0, 4)\n",
    "    grid[finish_row][finish_column] = 'F'\n",
    "\n",
    "    for row in grid:\n",
    "        print(' '.join(row))\n",
    "    print(\"----------------------\")\n",
    "    x = x + 1"
   ]
  }
 ],
 "metadata": {
  "kernelspec": {
   "display_name": "Python 3.8.2 64-bit",
   "language": "python",
   "name": "python3"
  },
  "language_info": {
   "codemirror_mode": {
    "name": "ipython",
    "version": 3
   },
   "file_extension": ".py",
   "mimetype": "text/x-python",
   "name": "python",
   "nbconvert_exporter": "python",
   "pygments_lexer": "ipython3",
   "version": "3.8.2"
  },
  "orig_nbformat": 4,
  "vscode": {
   "interpreter": {
    "hash": "31f2aee4e71d21fbe5cf8b01ff0e069b9275f58929596ceb00d14d90e3e16cd6"
   }
  }
 },
 "nbformat": 4,
 "nbformat_minor": 2
}
