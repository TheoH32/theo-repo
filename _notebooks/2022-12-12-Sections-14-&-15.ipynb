{
 "cells": [
  {
   "cell_type": "markdown",
   "metadata": {},
   "source": [
    "# Sections 14 & 15 Hacks\n",
    "\n",
    "- toc: true\n",
    "- comments: true"
   ]
  },
  {
   "cell_type": "markdown",
   "metadata": {},
   "source": [
    "## Question 1 - Notes\n",
    "\n",
    "Documentation is vital for others or for yourself to understand your code later on. Over documenting is never hurtful but underdocumenting is. Libraries are collections of code and scripts that can provide faster solvents to problems. API's are also useful for using pre-determined data. \n",
    "\n",
    "Randomization is useful for algorithms that rely on things of chance. \"import random\" is needed as it provides random scripting. Number ranges are also needed for setting boundaries. A couple things you can do are random shuffles and choices.\n"
   ]
  },
  {
   "cell_type": "markdown",
   "metadata": {},
   "source": [
    "Give explanations for each questions"
   ]
  },
  {
   "cell_type": "markdown",
   "metadata": {},
   "source": [
    "## Question 2"
   ]
  },
  {
   "cell_type": "markdown",
   "metadata": {},
   "source": [
    "1. random(a,b) generates\n",
    "\n",
    "\n",
    "A) A random integer from a to b inclusive\n",
    "\n",
    "\n",
    "random(a,b) does this due to the user setting a range from a to b. If you want it to differ, then you have to change the range.\n",
    "\n",
    "-----------\n",
    "\n",
    "2. What is x, y, and z in random.randrange(x,y,z)?\n",
    "\n",
    "A\n",
    "\n",
    "\n"
   ]
  },
  {
   "cell_type": "markdown",
   "metadata": {},
   "source": [
    "## Question 3"
   ]
  }
 ],
 "metadata": {
  "kernelspec": {
   "display_name": "Python 3.8.2 64-bit",
   "language": "python",
   "name": "python3"
  },
  "language_info": {
   "codemirror_mode": {
    "name": "ipython",
    "version": 3
   },
   "file_extension": ".py",
   "mimetype": "text/x-python",
   "name": "python",
   "nbconvert_exporter": "python",
   "pygments_lexer": "ipython3",
   "version": "3.8.2"
  },
  "orig_nbformat": 4,
  "vscode": {
   "interpreter": {
    "hash": "31f2aee4e71d21fbe5cf8b01ff0e069b9275f58929596ceb00d14d90e3e16cd6"
   }
  }
 },
 "nbformat": 4,
 "nbformat_minor": 2
}
