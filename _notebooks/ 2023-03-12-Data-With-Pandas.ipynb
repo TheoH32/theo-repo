{
 "cells": [
  {
   "attachments": {},
   "cell_type": "markdown",
   "metadata": {},
   "source": [
    "#  Data Scraping with Pandas\n",
    "> Made a json file and scraped with pandas\n",
    "- toc: true\n",
    "- image: /images/python.png\n",
    "- categories: []\n",
    "- type: ap\n",
    "- week: 25"
   ]
  },
  {
   "cell_type": "code",
   "execution_count": 1,
   "metadata": {},
   "outputs": [],
   "source": [
    "'''Pandas is used to gather data sets through its DataFrames implementation'''\n",
    "import pandas as pd"
   ]
  },
  {
   "cell_type": "code",
   "execution_count": 11,
   "metadata": {},
   "outputs": [
    {
     "name": "stdout",
     "output_type": "stream",
     "text": [
      "       Game Name  Average Monthly Players       Developers\n",
      "0       Fortnite                276931944       Epic Games\n",
      "1   Apex Legends                   624473  Electronic Arts\n",
      "2  Rocket League                    25670       Epic Games\n",
      "3      Minecraft                  1405619           Mojang\n",
      "4   Call of Duty                   316225       Activision\n",
      "5      Destiny 2                  1653214           Bungie\n"
     ]
    }
   ],
   "source": [
    "df = pd.read_json('files/games.json')\n",
    "\n",
    "print(df)"
   ]
  },
  {
   "attachments": {},
   "cell_type": "markdown",
   "metadata": {},
   "source": [
    "## DataFrame Column Selection"
   ]
  },
  {
   "cell_type": "code",
   "execution_count": 17,
   "metadata": {},
   "outputs": [
    {
     "name": "stdout",
     "output_type": "stream",
     "text": [
      "       Game Name\n",
      "0       Fortnite\n",
      "1   Apex Legends\n",
      "2  Rocket League\n",
      "3      Minecraft\n",
      "4   Call of Duty\n",
      "5      Destiny 2\n",
      "\n",
      "   Average Monthly Players\n",
      "0                276931944\n",
      "1                   624473\n",
      "2                    25670\n",
      "3                  1405619\n",
      "4                   316225\n",
      "5                  1653214\n",
      "\n",
      "        Developers\n",
      "0       Epic Games\n",
      "1  Electronic Arts\n",
      "2       Epic Games\n",
      "3           Mojang\n",
      "4       Activision\n",
      "5           Bungie\n"
     ]
    }
   ],
   "source": [
    "#print the values in the points column with column header\n",
    "print(df[['Game Name']])\n",
    "print()\n",
    "print(df[['Average Monthly Players']])\n",
    "print()\n",
    "print(df[['Developers']])"
   ]
  },
  {
   "cell_type": "markdown",
   "metadata": {},
   "source": [
    "# Multiple Columns"
   ]
  },
  {
   "cell_type": "code",
   "execution_count": 6,
   "metadata": {},
   "outputs": [
    {
     "name": "stdout",
     "output_type": "stream",
     "text": [
      "    Game Name      Developers\n",
      "     Fortnite      Epic Games\n",
      " Apex Legends Electronic Arts\n",
      "Rocket League      Epic Games\n",
      "    Minecraft          Mojang\n",
      " Call of Duty      Activision\n",
      "    Destiny 2          Bungie\n"
     ]
    }
   ],
   "source": [
    "\n",
    "print(df[['Game Name','Developers']].to_string(index=False))"
   ]
  },
  {
   "attachments": {},
   "cell_type": "markdown",
   "metadata": {},
   "source": [
    "## DataFrame Sort"
   ]
  },
  {
   "cell_type": "code",
   "execution_count": 9,
   "metadata": {},
   "outputs": [
    {
     "name": "stdout",
     "output_type": "stream",
     "text": [
      "       Game Name  Average Monthly Players       Developers\n",
      "0       Fortnite                276931944       Epic Games\n",
      "5      Destiny 2                  1653214           Bungie\n",
      "3      Minecraft                  1405619           Mojang\n",
      "1   Apex Legends                   624473  Electronic Arts\n",
      "4   Call of Duty                   316225       Activision\n",
      "2  Rocket League                    25670       Epic Games\n",
      "\n",
      "       Game Name  Average Monthly Players       Developers\n",
      "2  Rocket League                    25670       Epic Games\n",
      "4   Call of Duty                   316225       Activision\n",
      "1   Apex Legends                   624473  Electronic Arts\n",
      "3      Minecraft                  1405619           Mojang\n",
      "5      Destiny 2                  1653214           Bungie\n",
      "0       Fortnite                276931944       Epic Games\n"
     ]
    }
   ],
   "source": [
    "#sort values\n",
    "print(df.sort_values(by=['Average Monthly Players'], ascending=False))\n",
    "\n",
    "print()\n",
    "\n",
    "#sort the values in reverse order\n",
    "print(df.sort_values(by=['Average Monthly Players']))\n"
   ]
  },
  {
   "attachments": {},
   "cell_type": "markdown",
   "metadata": {},
   "source": [
    "## DataFrame Selection or Filter"
   ]
  },
  {
   "cell_type": "code",
   "execution_count": 23,
   "metadata": {},
   "outputs": [
    {
     "name": "stdout",
     "output_type": "stream",
     "text": [
      "      Game Name  Average Monthly Players       Developers  Metacritic\n",
      "1  Apex Legends                   624473  Electronic Arts          88\n",
      "3     Minecraft                  1405619           Mojang          93\n",
      "6         CS-GO                  1416861            Valve          88\n"
     ]
    }
   ],
   "source": [
    "df = pd.read_json('files/games.json')\n",
    "print(df[df.Metacritic > 87])"
   ]
  },
  {
   "attachments": {},
   "cell_type": "markdown",
   "metadata": {},
   "source": [
    "## DataFrame Selection Max and Min"
   ]
  },
  {
   "cell_type": "code",
   "execution_count": 24,
   "metadata": {},
   "outputs": [
    {
     "name": "stdout",
     "output_type": "stream",
     "text": [
      "   Game Name  Average Monthly Players Developers  Metacritic\n",
      "3  Minecraft                  1405619     Mojang          93\n",
      "\n",
      "      Game Name  Average Monthly Players  Developers  Metacritic\n",
      "4  Call of Duty                   316225  Activision          73\n"
     ]
    }
   ],
   "source": [
    "print(df[df.Metacritic == df.Metacritic.max()])\n",
    "print()\n",
    "print(df[df.Metacritic == df.Metacritic.min()])"
   ]
  },
  {
   "attachments": {},
   "cell_type": "markdown",
   "metadata": {},
   "source": [
    "# Head and Tail"
   ]
  },
  {
   "cell_type": "code",
   "execution_count": 28,
   "metadata": {},
   "outputs": [
    {
     "name": "stdout",
     "output_type": "stream",
     "text": [
      "-----Top Scoring 2-----\n",
      "      Game Name  Average Monthly Players       Developers  Metacritic\n",
      "3     Minecraft                  1405619           Mojang          93\n",
      "1  Apex Legends                   624473  Electronic Arts          88\n",
      "\n",
      "\n",
      "-----Bottom Scoring 2-----\n",
      "      Game Name  Average Monthly Players  Developers  Metacritic\n",
      "0      Fortnite                276931944  Epic Games          83\n",
      "4  Call of Duty                   316225  Activision          73\n"
     ]
    }
   ],
   "source": [
    "import pandas as pd\n",
    "\n",
    "#read csv and sort 'Duration' largest to smallest\n",
    "df = pd.read_json('files/games.json').sort_values(by=['Metacritic'], ascending=False)\n",
    "\n",
    "\n",
    "print(\"-----Top Scoring 2-----\")\n",
    "print(df.head(2))\n",
    "\n",
    "print()\n",
    "print()\n",
    "\n",
    "print(\"-----Bottom Scoring 2-----\")\n",
    "print(df.tail(2))\n"
   ]
  }
 ],
 "metadata": {
  "kernelspec": {
   "display_name": "Python 3.9.12 ('base')",
   "language": "python",
   "name": "python3"
  },
  "language_info": {
   "codemirror_mode": {
    "name": "ipython",
    "version": 3
   },
   "file_extension": ".py",
   "mimetype": "text/x-python",
   "name": "python",
   "nbconvert_exporter": "python",
   "pygments_lexer": "ipython3",
   "version": "3.9.12"
  },
  "orig_nbformat": 4,
  "vscode": {
   "interpreter": {
    "hash": "40d3a090f54c6569ab1632332b64b2c03c39dcf918b08424e98f38b5ae0af88f"
   }
  }
 },
 "nbformat": 4,
 "nbformat_minor": 2
}
