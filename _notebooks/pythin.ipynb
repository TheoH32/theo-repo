{
 "cells": [
  {
   "cell_type": "code",
   "execution_count": 2,
   "metadata": {},
   "outputs": [
    {
     "name": "stdout",
     "output_type": "stream",
     "text": [
      "ADDITION = a\n",
      "SUBTRACTION = b\n",
      "MULTIPLICATION = c\n",
      "DIVISON = d\n"
     ]
    },
    {
     "ename": "ValueError",
     "evalue": "invalid literal for int() with base 10: ''",
     "output_type": "error",
     "traceback": [
      "\u001b[0;31m---------------------------------------------------------------------------\u001b[0m",
      "\u001b[0;31mValueError\u001b[0m                                Traceback (most recent call last)",
      "\u001b[1;32m/Users/Theo/vscode/theo-repo/_notebooks/pythin.ipynb Cell 1\u001b[0m in \u001b[0;36m<cell line: 29>\u001b[0;34m()\u001b[0m\n\u001b[1;32m     <a href='vscode-notebook-cell:/Users/Theo/vscode/theo-repo/_notebooks/pythin.ipynb#W1sZmlsZQ%3D%3D?line=22'>23</a>\u001b[0m   \u001b[39mprint\u001b[39m (\u001b[39m\"\u001b[39m\u001b[39md. Division\u001b[39m\u001b[39m\"\u001b[39m)    \n\u001b[1;32m     <a href='vscode-notebook-cell:/Users/Theo/vscode/theo-repo/_notebooks/pythin.ipynb#W1sZmlsZQ%3D%3D?line=26'>27</a>\u001b[0m choice \u001b[39m=\u001b[39m \u001b[39minput\u001b[39m(\u001b[39m\"\u001b[39m\u001b[39mWhat action:\u001b[39m\u001b[39m\"\u001b[39m)    \n\u001b[0;32m---> <a href='vscode-notebook-cell:/Users/Theo/vscode/theo-repo/_notebooks/pythin.ipynb#W1sZmlsZQ%3D%3D?line=28'>29</a>\u001b[0m number1\u001b[39m=\u001b[39m \u001b[39mint\u001b[39;49m (\u001b[39minput\u001b[39;49m (\u001b[39m\"\u001b[39;49m\u001b[39m What is the First number?: \u001b[39;49m\u001b[39m\"\u001b[39;49m))    \n\u001b[1;32m     <a href='vscode-notebook-cell:/Users/Theo/vscode/theo-repo/_notebooks/pythin.ipynb#W1sZmlsZQ%3D%3D?line=29'>30</a>\u001b[0m number2\u001b[39m=\u001b[39m \u001b[39mint\u001b[39m (\u001b[39minput\u001b[39m (\u001b[39m\"\u001b[39m\u001b[39mWhat is the Second number?: \u001b[39m\u001b[39m\"\u001b[39m))    \n\u001b[1;32m     <a href='vscode-notebook-cell:/Users/Theo/vscode/theo-repo/_notebooks/pythin.ipynb#W1sZmlsZQ%3D%3D?line=31'>32</a>\u001b[0m \u001b[39mif\u001b[39;00m choice \u001b[39m==\u001b[39m \u001b[39m'\u001b[39m\u001b[39ma\u001b[39m\u001b[39m'\u001b[39m:    \n",
      "\u001b[0;31mValueError\u001b[0m: invalid literal for int() with base 10: ''"
     ]
    }
   ],
   "source": [
    "print(\"ADDITION = a\")\n",
    "print(\"SUBTRACTION = b\")\n",
    "print(\"MULTIPLICATION = c\")\n",
    "print(\"DIVISON = d\")\n",
    "\n",
    "def add(F, S):    \n",
    "   return F + S   \n",
    "  \n",
    "def subtract(F, S):   \n",
    "   return F - S \n",
    "\n",
    "def multiplication(F, S):   \n",
    "   return F * S\n",
    "\n",
    "def division(F, S):   \n",
    "   return F / S \n",
    "\n",
    "def repeat():\n",
    "  print (\"Please select the action.\")    \n",
    "  print (\"a. Addition\")    \n",
    "  print (\"b. Subtraction\") \n",
    "  print (\"c. Multiplication\")  \n",
    "  print (\"d. Division\")    \n",
    "\n",
    "\n",
    "\n",
    "choice = input(\"What action:\")    \n",
    "    \n",
    "number1= int (input (\" What is the First number?: \"))    \n",
    "number2= int (input (\"What is the Second number?: \"))    \n",
    "    \n",
    "if choice == 'a':    \n",
    "   print (number1, \" + \", number2, \" = \", add(number1, number2))    \n",
    "    \n",
    "elif choice == 'b':    \n",
    "   print (number1, \" - \", number2, \" = \", subtract(number1, number2))\n",
    "          \n",
    "if choice == 'c':    \n",
    "   print (number1, \" * \", number2, \" = \", multiplication(number1, number2))    \n",
    "     \n",
    "elif choice == 'd':    \n",
    "   print (number1, \"/ \", number2, \" = \", division(number1, number2))\n",
    "\n",
    " \n",
    "\n"
   ]
  }
 ],
 "metadata": {
  "kernelspec": {
   "display_name": "Python 3.8.2 64-bit",
   "language": "python",
   "name": "python3"
  },
  "language_info": {
   "codemirror_mode": {
    "name": "ipython",
    "version": 3
   },
   "file_extension": ".py",
   "mimetype": "text/x-python",
   "name": "python",
   "nbconvert_exporter": "python",
   "pygments_lexer": "ipython3",
   "version": "3.8.2"
  },
  "orig_nbformat": 4,
  "vscode": {
   "interpreter": {
    "hash": "31f2aee4e71d21fbe5cf8b01ff0e069b9275f58929596ceb00d14d90e3e16cd6"
   }
  }
 },
 "nbformat": 4,
 "nbformat_minor": 2
}
