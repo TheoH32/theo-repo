{
 "cells": [
  {
   "cell_type": "markdown",
   "metadata": {},
   "source": [
    "# Sections 8 & 10 Hacks"
   ]
  },
  {
   "cell_type": "markdown",
   "metadata": {},
   "source": [
    "## Exercise 1"
   ]
  },
  {
   "cell_type": "code",
   "execution_count": 1,
   "metadata": {},
   "outputs": [
    {
     "name": "stdout",
     "output_type": "stream",
     "text": [
      "Original List\n",
      "[1, 2, 3, 4, 5]\n",
      "Reversed List\n",
      "[5, 4, 3, 2, 1]\n"
     ]
    }
   ],
   "source": [
    "list = [1, 2, 3, 4, 5] # Print this list in reverse orde\n",
    "print(\"Original List\")\n",
    "print(list)\n",
    "print(\"Reversed List\")\n",
    "list.reverse()\n",
    "print(list)"
   ]
  },
  {
   "cell_type": "markdown",
   "metadata": {},
   "source": [
    "## Exercise 2"
   ]
  },
  {
   "cell_type": "code",
   "execution_count": 2,
   "metadata": {},
   "outputs": [
    {
     "name": "stdout",
     "output_type": "stream",
     "text": [
      "Original [9, 8, 4, 3, 5, 2, 6, 7, 1, 0]\n",
      "Sorted [0, 1, 2, 3, 4, 5, 6, 7, 8, 9]\n"
     ]
    }
   ],
   "source": [
    "list = [9, 8, 4, 3, 5, 2, 6, 7, 1, 0]\n",
    "print(f\"Original {list}\")\n",
    "def insertion_sort(list):\n",
    "    for index in range(1,len(list)):\n",
    "        value = list[index]\n",
    "        i = index - 1\n",
    "        while i >= 0:\n",
    "            if value < list[i]:\n",
    "                list[i+1] = list[i]\n",
    "                list[i] = value\n",
    "                i = i - 1\n",
    "            else:\n",
    "                break\n",
    "\n",
    "sl = insertion_sort(list)\n",
    "print(f\"Sorted {list}\")"
   ]
  },
  {
   "cell_type": "markdown",
   "metadata": {},
   "source": [
    "## Lessons\n",
    "\n",
    "##### As I went through these problems, I learned a lot more about making functions and the thought process behind them. Coming into coding with no knowledge makes everything look a lot scarier. Seeing the steps and hearing the explanation behind them helps a lot. Exercise 2 especially was challenging. I used a heavy inspiration from the class notes and managed to figure it out."
   ]
  },
  {
   "cell_type": "markdown",
   "metadata": {},
   "source": [
    "## Multiple Choice Quiz"
   ]
  },
  {
   "cell_type": "markdown",
   "metadata": {},
   "source": [
    "![Queston 1](/Users/Theo/vscode/theo-repo/images/it1.png)\n",
    "\n"
   ]
  },
  {
   "cell_type": "markdown",
   "metadata": {},
   "source": [
    "![Queston 2](/Users/Theo/vscode/theo-repo/images/it2.png)"
   ]
  },
  {
   "cell_type": "markdown",
   "metadata": {},
   "source": [
    "![Queston 3](/Users/Theo/vscode/theo-repo/images/it3.png)"
   ]
  },
  {
   "cell_type": "markdown",
   "metadata": {},
   "source": [
    "![Queston 4](/Users/Theo/vscode/theo-repo/images/it4.png)"
   ]
  },
  {
   "cell_type": "markdown",
   "metadata": {},
   "source": [
    "![Queston 5](/Users/Theo/vscode/theo-repo/images/it5.png)"
   ]
  },
  {
   "cell_type": "markdown",
   "metadata": {},
   "source": [
    " ![Queston 6](/Users/Theo/vscode/theo-repo/images/it6.png)"
   ]
  },
  {
   "cell_type": "markdown",
   "metadata": {},
   "source": [
    "![Queston 7](/Users/Theo/vscode/theo-repo/images/it7.png)"
   ]
  },
  {
   "cell_type": "markdown",
   "metadata": {},
   "source": [
    "# Questions 1-7 Reflection\n",
    "\n",
    "##### These first few questions were pretty basic and easy to answer. Most of them were matching the command to the definition."
   ]
  },
  {
   "cell_type": "markdown",
   "metadata": {},
   "source": [
    "![Queston 8](/Users/Theo/vscode/theo-repo/images/it8.png)"
   ]
  },
  {
   "cell_type": "markdown",
   "metadata": {},
   "source": [
    "![Queston 9](/Users/Theo/vscode/theo-repo/images/it9.png)"
   ]
  },
  {
   "cell_type": "markdown",
   "metadata": {},
   "source": [
    "![Queston 10](/Users/Theo/vscode/theo-repo/images/it10.png)"
   ]
  },
  {
   "cell_type": "markdown",
   "metadata": {},
   "source": [
    "# Questions 8-10 Reflections\n",
    "##### These next three questions were a lot harder for me. I understand a lot of the basic definitive concepts, but I still struggle on more of the harder concepts.\n",
    "\n",
    "# Question 8\n",
    "##### While loop = a loop that repeats WHILE the condition is met\n",
    "\n",
    "# Question 9 \n",
    "##### Honestly this was a straight forward question, for loops run until the condition is met\n",
    "\n",
    "# Question 10\n",
    "##### I have no idea how to answer this question, I will ask in class. If I had to guess one for loop to go through each list, and then another for loop nested in it that goes through the list until the end."
   ]
  }
 ],
 "metadata": {
  "kernelspec": {
   "display_name": "Python 3.8.2 64-bit",
   "language": "python",
   "name": "python3"
  },
  "language_info": {
   "codemirror_mode": {
    "name": "ipython",
    "version": 3
   },
   "file_extension": ".py",
   "mimetype": "text/x-python",
   "name": "python",
   "nbconvert_exporter": "python",
   "pygments_lexer": "ipython3",
   "version": "3.8.2"
  },
  "orig_nbformat": 4,
  "vscode": {
   "interpreter": {
    "hash": "31f2aee4e71d21fbe5cf8b01ff0e069b9275f58929596ceb00d14d90e3e16cd6"
   }
  }
 },
 "nbformat": 4,
 "nbformat_minor": 2
}
