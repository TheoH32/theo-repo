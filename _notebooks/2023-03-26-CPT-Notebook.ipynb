{
 "cells": [
  {
   "cell_type": "markdown",
   "metadata": {},
   "source": [
    "# College Performance Task Plan\n",
    "> Sketch up of project\n",
    "- toc: true\n",
    "- categories: []\n",
    "- type: ap\n",
    "- week: 27"
   ]
  },
  {
   "cell_type": "markdown",
   "metadata": {},
   "source": [
    "# What: color guessing game\n",
    "# Left to do:\n",
    "- Procedural abstraction\n",
    "- Managing complexity\n",
    "- Double check everything else"
   ]
  },
  {
   "cell_type": "markdown",
   "metadata": {},
   "source": [
    "# Win Example"
   ]
  },
  {
   "cell_type": "code",
   "execution_count": 2,
   "metadata": {},
   "outputs": [
    {
     "name": "stdout",
     "output_type": "stream",
     "text": [
      "You have 4 tries to guess the color!\n",
      "Options:\n",
      "Blue\n",
      "Red\n",
      "Green\n",
      "Black\n",
      "White\n",
      "-----------------------\n",
      "Wrong guess, its not Blue\n",
      "Wrong guess, its not Red\n",
      "You Win! The color was Green\n"
     ]
    }
   ],
   "source": [
    "import random\n",
    "\n",
    "Colors = {1: 'Blue', 2: 'Red', 3: 'Green', 4:'Black', 5:'White'}\n",
    "answer = Colors[random.randrange(1, 6)]\n",
    "print(\"You have 4 tries to guess the color!\")\n",
    "print(\"Options:\")\n",
    "for keys, value in Colors.items():\n",
    "   print(value)\n",
    "print(\"-----------------------\")\n",
    "def guess():\n",
    "    userGuess = input(\"What color do you think it is?\")\n",
    "    i = 0\n",
    "    while i < 4:\n",
    "        if userGuess == answer:\n",
    "            print(f\"You Win! The color was {answer}\")\n",
    "            break\n",
    "        else:\n",
    "            print(f\"Wrong guess, its not {userGuess}\")\n",
    "            userGuess = input(\"Wrong, new guess?\")\n",
    "            i = i + 1\n",
    "    if i == 4:\n",
    "        print(\"Too many guesses you lose!\")\n",
    "guess()"
   ]
  },
  {
   "cell_type": "markdown",
   "metadata": {},
   "source": [
    "# Loss Example"
   ]
  },
  {
   "cell_type": "code",
   "execution_count": 4,
   "metadata": {},
   "outputs": [
    {
     "name": "stdout",
     "output_type": "stream",
     "text": [
      "You have 4 tries to guess the color!\n",
      "Options:\n",
      "Blue\n",
      "Red\n",
      "Green\n",
      "Black\n",
      "White\n",
      "-----------------------\n",
      "Wrong guess, its not Red\n",
      "Wrong guess, its not Red\n",
      "Wrong guess, its not Red\n",
      "Wrong guess, its not Red\n",
      "Too many guesses you lose!\n"
     ]
    }
   ],
   "source": [
    "import random\n",
    "\n",
    "Colors = {1: 'Blue', 2: 'Red', 3: 'Green', 4:'Black', 5:'White'}\n",
    "answer = Colors[random.randrange(1, 6)]\n",
    "print(\"You have 4 tries to guess the color!\")\n",
    "print(\"Options:\")\n",
    "for keys, value in Colors.items():\n",
    "   print(value)\n",
    "print(\"-----------------------\")\n",
    "def guess():\n",
    "    userGuess = input(\"What color do you think it is?\")\n",
    "    i = 0\n",
    "    while i < 4:\n",
    "        if userGuess == answer:\n",
    "            print(f\"You Win! The color was {answer}\")\n",
    "            break\n",
    "        else:\n",
    "            print(f\"Wrong guess, its not {userGuess}\")\n",
    "            userGuess = input(\"Wrong, new guess?\")\n",
    "            i = i + 1\n",
    "    if i == 4:\n",
    "        print(\"Too many guesses you lose!\")\n",
    "guess()"
   ]
  },
  {
   "cell_type": "code",
   "execution_count": 11,
   "metadata": {},
   "outputs": [
    {
     "name": "stdout",
     "output_type": "stream",
     "text": [
      "Choose 5 random colors!\n",
      "You have 4 tries to guess the color!\n",
      "Options:\n",
      "Blue\n",
      "Black\n",
      "Red\n",
      "Green\n",
      "Purple\n",
      "-----------------------\n",
      "Wrong guess, its not Black\n",
      "Wrong guess, its not Green\n",
      "You Win! The color was Purple\n",
      "-----------------------\n",
      "Options:\n",
      "(P)lay again with the same colors\n",
      "(R)edefine colors\n",
      "(S)top\n",
      "Please enter the first letter of the action you want\n",
      "-----------------------\n",
      "Wrong guess, its not Blue\n",
      "Wrong guess, its not Black\n",
      "Wrong guess, its not Red\n",
      "Wrong guess, its not Green\n",
      "Too many guesses you lose!\n"
     ]
    }
   ],
   "source": [
    "import random\n",
    "\n",
    "def defineDictionary():\n",
    "    print(\"Choose 5 random colors!\")\n",
    "    global newLine\n",
    "    newLine = \"-----------------------\"\n",
    "    color1 = str(input(\"Color 1?\"))\n",
    "    color2 = str(input(\"Color 2?\"))\n",
    "    color3 = str(input(\"Color 3?\"))\n",
    "    color4 = str(input(\"Color 4?\"))\n",
    "    color5 = str(input(\"Color 5?\"))\n",
    "    Colors = {1: color1, 2: color2, 3: color3, 4: color4, 5: color5}\n",
    "    global answer\n",
    "    answer = Colors[random.randrange(1, 6)]\n",
    "    print(\"You have 4 tries to guess the color!\\nOptions:\")\n",
    "    for keys, value in Colors.items():\n",
    "        print(value)\n",
    "    print(newLine)\n",
    "\n",
    "def options():\n",
    "    print(f\"Options:\\n(P)lay again with the same colors\\n(R)edefine colors\\n(S)top\\nPlease enter the first letter of the action you want\\n{newLine}\")\n",
    "    userAction = str(input(\"First letter?\"))\n",
    "    if userAction.lower() == 'p':\n",
    "        guess()\n",
    "    elif userAction.lower() == 'r':\n",
    "        defineDictionary()\n",
    "    elif userAction.lower() == 's':\n",
    "        return\n",
    "    else:\n",
    "        print(\"Please enter p, r, or s\") \n",
    "    \n",
    "def guess():\n",
    "    userGuess = input(\"What color do you think it is?\")\n",
    "    i = 0\n",
    "    while i < 4:\n",
    "        if userGuess == answer:\n",
    "            print(f\"You Win! The color was {answer}\\n{newLine}\")\n",
    "            break\n",
    "        else:\n",
    "            print(f\"Wrong guess, its not {userGuess}\")\n",
    "            userGuess = input(\"Wrong, new guess?\")\n",
    "            i = i + 1\n",
    "    if i == 4:\n",
    "        print(\"Too many guesses you lose!\")\n",
    "        options()\n",
    "\n",
    "defineDictionary()\n",
    "guess()\n",
    "options()\n"
   ]
  }
 ],
 "metadata": {
  "kernelspec": {
   "display_name": "Python 3.9.12 ('base')",
   "language": "python",
   "name": "python3"
  },
  "language_info": {
   "codemirror_mode": {
    "name": "ipython",
    "version": 3
   },
   "file_extension": ".py",
   "mimetype": "text/x-python",
   "name": "python",
   "nbconvert_exporter": "python",
   "pygments_lexer": "ipython3",
   "version": "3.9.12"
  },
  "orig_nbformat": 4,
  "vscode": {
   "interpreter": {
    "hash": "40d3a090f54c6569ab1632332b64b2c03c39dcf918b08424e98f38b5ae0af88f"
   }
  }
 },
 "nbformat": 4,
 "nbformat_minor": 2
}
