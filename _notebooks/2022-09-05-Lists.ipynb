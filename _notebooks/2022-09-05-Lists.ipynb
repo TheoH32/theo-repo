{
 "cells": [
  {
   "cell_type": "markdown",
   "metadata": {},
   "source": [
    "# Lists and Dictionaries"
   ]
  },
  {
   "cell_type": "code",
   "execution_count": 2,
   "metadata": {},
   "outputs": [
    {
     "name": "stdout",
     "output_type": "stream",
     "text": [
      "[{'FirstName': 'John', 'LastName': 'Mortensen', 'DOB': 'October 21', 'Residence': 'San Diego', 'Email': 'johnmortensen.com', 'Owns_Cars': ['2015-Fusion', '2011-Ranger', '2003-Excursion', '1997-F350', '1969-Cadillac']}, {'FirstName': 'Sunny', 'LastName': 'Naidu', 'DOB': 'August 2', 'Residence': 'Temecula', 'Email': 'snaidu@powayusd.com', 'Owns_Cars': ['4Runner']}, {'FirstName': 'Theo', 'LastName': 'Huntalas', 'DOB': 'January 31', 'Residence': 'San Diego', 'Email': 'theo.h131@gmail.com', 'Owns_Cars': ['2020-Shelby']}, {'FirstName': 'Kush', 'LastName': 'Sironi', 'DOB': 'March 9', 'Residence': 'San Diego', 'Email': 'kushsironi@gmail.com', 'Owns_Cars': ['2019-Bently', '2016-Bugatti']}, {'FirstName': 'Bob', 'LastName': 'Farmer', 'DOB': 'December 17', 'Residence': 'Chula Vista', 'Email': 'bobthefarmer@gmail.com', 'Owns_Cars': ['2021-Tractor']}]\n",
      "For loop output\n",
      "\n",
      "John Mortensen\n",
      "\t Residence: San Diego\n",
      "\t Birth Day: October 21\n",
      "\t Cars: 2015-Fusion, 2011-Ranger, 2003-Excursion, 1997-F350, 1969-Cadillac\n",
      "\n",
      "Sunny Naidu\n",
      "\t Residence: Temecula\n",
      "\t Birth Day: August 2\n",
      "\t Cars: 4Runner\n",
      "\n",
      "Theo Huntalas\n",
      "\t Residence: San Diego\n",
      "\t Birth Day: January 31\n",
      "\t Cars: 2020-Shelby\n",
      "\n",
      "Kush Sironi\n",
      "\t Residence: San Diego\n",
      "\t Birth Day: March 9\n",
      "\t Cars: 2019-Bently, 2016-Bugatti\n",
      "\n",
      "Bob Farmer\n",
      "\t Residence: Chula Vista\n",
      "\t Birth Day: December 17\n",
      "\t Cars: 2021-Tractor\n",
      "\n"
     ]
    }
   ],
   "source": [
    "# Define an empty List called InfoDb\n",
    "InfoDb = []\n",
    "\n",
    "# Append to List a Dictionary of key/values related to a person and cars\n",
    "InfoDb.append({\n",
    "    \"FirstName\": \"John\",\n",
    "    \"LastName\": \"Mortensen\",\n",
    "    \"DOB\": \"October 21\",\n",
    "    \"Residence\": \"San Diego\",\n",
    "    \"Email\": \"johnmortensen.com\",\n",
    "    \"Owns_Cars\": [\"2015-Fusion\", \"2011-Ranger\", \"2003-Excursion\", \"1997-F350\", \"1969-Cadillac\"]\n",
    "})\n",
    "\n",
    "# Append to List a 2nd Dictionary of key/values\n",
    "InfoDb.append({\n",
    "    \"FirstName\": \"Sunny\",\n",
    "    \"LastName\": \"Naidu\",\n",
    "    \"DOB\": \"August 2\",\n",
    "    \"Residence\": \"Temecula\",\n",
    "    \"Email\": \"snaidu@powayusd.com\",\n",
    "    \"Owns_Cars\": [\"4Runner\"]\n",
    "})\n",
    "\n",
    "# Append to List a Dictionary of key/values related to a person and cars\n",
    "InfoDb.append({\n",
    "    \"FirstName\": \"Theo\",\n",
    "    \"LastName\": \"Huntalas\",\n",
    "    \"DOB\": \"January 31\",\n",
    "    \"Residence\": \"San Diego\",\n",
    "    \"Email\": \"theo.h131@gmail.com\",\n",
    "    \"Owns_Cars\": [\"2020-Shelby\"]\n",
    "})\n",
    "\n",
    "InfoDb.append({\n",
    "    \"FirstName\": \"Kush\",\n",
    "    \"LastName\": \"Sironi\",\n",
    "    \"DOB\": \"March 9\",\n",
    "    \"Residence\": \"San Diego\",\n",
    "    \"Email\": \"kushsironi@gmail.com\",\n",
    "    \"Owns_Cars\": [\"2019-Bently\", \"2016-Bugatti\"]\n",
    "})\n",
    "\n",
    "InfoDb.append({\n",
    "    \"FirstName\": \"Bob\",\n",
    "    \"LastName\": \"Farmer\",\n",
    "    \"DOB\": \"December 17\",\n",
    "    \"Residence\": \"Chula Vista\",\n",
    "    \"Email\": \"bobthefarmer@gmail.com\",\n",
    "    \"Owns_Cars\": [\"2021-Tractor\"]\n",
    "})\n",
    "\n",
    "# Print the data structure\n",
    "print(InfoDb)\n",
    "\n",
    "# given and index this will print InfoDb content\n",
    "def print_data(d_rec):\n",
    "    print(d_rec[\"FirstName\"], d_rec[\"LastName\"])  # using comma puts space between values\n",
    "    print(\"\\t\", \"Residence:\", d_rec[\"Residence\"]) # \\t is a tab indent\n",
    "    print(\"\\t\", \"Birth Day:\", d_rec[\"DOB\"])\n",
    "    print(\"\\t\", \"Cars: \", end=\"\")  # end=\"\" make sure no return occurs\n",
    "    print(\", \".join(d_rec[\"Owns_Cars\"]))  # join allows printing a string list with separator\n",
    "    print()\n",
    "\n",
    "\n",
    "# for loop iterates on length of InfoDb\n",
    "def for_loop():\n",
    "    print(\"For loop output\\n\")\n",
    "    for record in InfoDb:\n",
    "        print_data(record)\n",
    "\n",
    "for_loop()"
   ]
  }
 ],
 "metadata": {
  "kernelspec": {
   "display_name": "Python 3.8.2 64-bit",
   "language": "python",
   "name": "python3"
  },
  "language_info": {
   "codemirror_mode": {
    "name": "ipython",
    "version": 3
   },
   "file_extension": ".py",
   "mimetype": "text/x-python",
   "name": "python",
   "nbconvert_exporter": "python",
   "pygments_lexer": "ipython3",
   "version": "3.8.2"
  },
  "orig_nbformat": 4,
  "vscode": {
   "interpreter": {
    "hash": "31f2aee4e71d21fbe5cf8b01ff0e069b9275f58929596ceb00d14d90e3e16cd6"
   }
  }
 },
 "nbformat": 4,
 "nbformat_minor": 2
}
