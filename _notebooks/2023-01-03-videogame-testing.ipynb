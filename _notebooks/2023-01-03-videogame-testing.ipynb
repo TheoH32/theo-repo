{
 "cells": [
  {
   "cell_type": "markdown",
   "metadata": {},
   "source": [
    "# Brawl Stars Resource Calculator"
   ]
  },
  {
   "cell_type": "code",
   "execution_count": 1,
   "metadata": {},
   "outputs": [],
   "source": [
    "p1 = input(\"How many Power 1 Brawlers do you have\")\n",
    "p2 = input(\"How many Power 2 Brawlers do you have\")\n",
    "p3 = input(\"How many Power 3 Brawlers do you have\")\n",
    "p4 = input(\"How many Power 4 Brawlers do you have\")\n",
    "p5 = input(\"How many Power 5 Brawlers do you have\")\n",
    "p6 = input(\"How many Power 6 Brawlers do you have\")\n",
    "p7 = input(\"How many Power 7 Brawlers do you have\")\n",
    "p8 = input(\"How many Power 8 Brawlers do you have\")\n",
    "p9 = input(\"How many Power 9 Brawlers do you have\")\n",
    "p10 = input(\"How many Power 10 Brawlers do you have\")\n",
    "\n"
   ]
  },
  {
   "cell_type": "markdown",
   "metadata": {},
   "source": []
  }
 ],
 "metadata": {
  "kernelspec": {
   "display_name": "Python 3.8.2 64-bit",
   "language": "python",
   "name": "python3"
  },
  "language_info": {
   "codemirror_mode": {
    "name": "ipython",
    "version": 3
   },
   "file_extension": ".py",
   "mimetype": "text/x-python",
   "name": "python",
   "nbconvert_exporter": "python",
   "pygments_lexer": "ipython3",
   "version": "3.8.2"
  },
  "orig_nbformat": 4,
  "vscode": {
   "interpreter": {
    "hash": "31f2aee4e71d21fbe5cf8b01ff0e069b9275f58929596ceb00d14d90e3e16cd6"
   }
  }
 },
 "nbformat": 4,
 "nbformat_minor": 2
}
