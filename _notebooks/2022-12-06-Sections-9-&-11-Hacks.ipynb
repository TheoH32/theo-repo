{
 "cells": [
  {
   "cell_type": "markdown",
   "metadata": {},
   "source": [
    "# Sections 9 & 11 Hacks\n",
    "\n",
    "- toc: true\n",
    "- comments: true"
   ]
  },
  {
   "cell_type": "markdown",
   "metadata": {},
   "source": [
    "## Question 1"
   ]
  },
  {
   "cell_type": "code",
   "execution_count": 9,
   "metadata": {},
   "outputs": [
    {
     "name": "stdout",
     "output_type": "stream",
     "text": [
      "Should we go outside?\n",
      "Stay inside, it's raining\n"
     ]
    }
   ],
   "source": [
    "print(\"Should we go outside?\")\n",
    "isCold = False\n",
    "isRaining = True\n",
    "if isCold == True:\n",
    "    print(\"Stay inside it's cold\")\n",
    "if isRaining == True:\n",
    "    print(\"Stay inside, it's raining\")"
   ]
  },
  {
   "cell_type": "markdown",
   "metadata": {},
   "source": [
    "## Question 2"
   ]
  },
  {
   "cell_type": "code",
   "execution_count": 90,
   "metadata": {},
   "outputs": [
    {
     "name": "stdout",
     "output_type": "stream",
     "text": [
      "Your highest score is 10\n"
     ]
    }
   ],
   "source": [
    "import random\n",
    "\n",
    "attempts = 0\n",
    "tempScore = 0\n",
    "bestScore = 0\n",
    "while attempts < 4:\n",
    "    tempScore = random.randint(1,10)\n",
    "    print(tempScore)\n",
    "    if tempScore > bestScore:\n",
    "        bestScore = tempScore\n",
    "    attempts += 1\n",
    "print(\"Your highest score is\", bestScore)"
   ]
  },
  {
   "cell_type": "markdown",
   "metadata": {},
   "source": [
    "## Question 3\n",
    "\n",
    "\n",
    "\n",
    "    finishLine = false\n",
    "\n",
    "    while finishLine = false:\n",
    "\n",
    "        if canMoveForward:\n",
    "            moveForward()\n",
    "\n",
    "        else:\n",
    "            if canMoveRight:\n",
    "                rotateRight()\n",
    "                moveforward()\n",
    "            \n",
    "        if goalTouch = true:\n",
    "            finishLine = true\n"
   ]
  },
  {
   "cell_type": "markdown",
   "metadata": {},
   "source": [
    "## Question 5\n",
    "\n",
    "As the binary tree expands, you can see the process of how it works. It starts by splitting the index in half. It then searches the first and second half to see where to go. From either half, it keeps cutting each smaller index portion until the number 69 is found"
   ]
  },
  {
   "cell_type": "markdown",
   "metadata": {},
   "source": [
    "## Question 7\n",
    "[\"Market\", \"Walmart\", \"store\", \"Target\", \"Ralphs\"]"
   ]
  },
  {
   "cell_type": "markdown",
   "metadata": {},
   "source": [
    "## Question 8\n",
    "\n",
    "Binary search is far more efficient than sequential search because it cuts the list in half vs having to check each index. This logrithmically is ways faster than sequential and can save a lot of time"
   ]
  }
 ],
 "metadata": {
  "kernelspec": {
   "display_name": "Python 3.8.2 64-bit",
   "language": "python",
   "name": "python3"
  },
  "language_info": {
   "codemirror_mode": {
    "name": "ipython",
    "version": 3
   },
   "file_extension": ".py",
   "mimetype": "text/x-python",
   "name": "python",
   "nbconvert_exporter": "python",
   "pygments_lexer": "ipython3",
   "version": "3.8.2"
  },
  "orig_nbformat": 4,
  "vscode": {
   "interpreter": {
    "hash": "31f2aee4e71d21fbe5cf8b01ff0e069b9275f58929596ceb00d14d90e3e16cd6"
   }
  }
 },
 "nbformat": 4,
 "nbformat_minor": 2
}
