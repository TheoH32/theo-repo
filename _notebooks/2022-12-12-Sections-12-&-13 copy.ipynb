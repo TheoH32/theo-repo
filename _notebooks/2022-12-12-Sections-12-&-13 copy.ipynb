{
 "cells": [
  {
   "cell_type": "markdown",
   "metadata": {},
   "source": [
    "# Sections 12 & 13 Hacks\n",
    "\n",
    "- toc: true\n",
    "- comments: true"
   ]
  },
  {
   "cell_type": "markdown",
   "metadata": {},
   "source": [
    "## Problem 1\n",
    "\n",
    "Procedure to calculate speed:\n",
    "\n",
    "    PROCEDURE calcAvgSpeed (distance, time) { DISPLAY (time/distance) }\n",
    "\n",
    "This is the only procedure to calculate speed because all the other ones are distance over time when for speed you need time over distance."
   ]
  },
  {
   "cell_type": "markdown",
   "metadata": {},
   "source": [
    "## Problem 2\n",
    "\n",
    "    PROCEDURE heightenEmotions(myEmotion)\n",
    "\n",
    "    { moreEnergy ← CONCAT(myEmotion, \"!!!\")\n",
    "\n",
    "    moreVolume ← UPPER(moreEnergy)\n",
    "\n",
    "    RETURN moreVolume }\n",
    "\n",
    "    heightenEmotions(\"im mad\")\n",
    "\n",
    "\n",
    "\n",
    "After that line, nothing will display. You are calling a part of a procedure that does not exist. Therefore, that part of procedure will show in a error or just nothing.\n",
    "\n",
    "\n",
    "\n",
    "\n"
   ]
  },
  {
   "cell_type": "markdown",
   "metadata": {},
   "source": [
    "## Problem 3\n",
    "\n",
    "    PROCEDURE calcFlightFootprint(numMiles, numPassengers) { CO2_PER_MILE ← 53.29\n",
    "\n",
    "    carbonPerFlight ← numMiles * CO2_PER_MILE\n",
    "\n",
    "    carbonPerPassenger ← carbonPerFlight / numPassengers\n",
    "\n",
    "    RETURN carbonPerPassenger\n",
    "\n",
    "    }\n",
    "\n",
    "totalFootprint ← calcFlightFootprint(2451, 118) + calcFlightFootprint(3442, 252)\n",
    "\n",
    "totalFootprint ← calcFlightFootprint((2451, 118) + (3442, 252))\n",
    "\n",
    "1 and 3 are the only answers because these properly set up the ranges\n",
    "\n",
    "\n",
    "\n"
   ]
  },
  {
   "cell_type": "markdown",
   "metadata": {},
   "source": [
    "## Hack 1"
   ]
  },
  {
   "cell_type": "code",
   "execution_count": 64,
   "metadata": {},
   "outputs": [
    {
     "name": "stdout",
     "output_type": "stream",
     "text": [
      "the answer is 729\n"
     ]
    }
   ],
   "source": [
    "c = 9\n",
    "b = 9 * 9\n",
    "a = b * c\n",
    "\n",
    "print(\"the answer is\", a)"
   ]
  },
  {
   "cell_type": "markdown",
   "metadata": {},
   "source": [
    "What this function does is define c and b. Then it changes a based on the values of both c and b."
   ]
  },
  {
   "cell_type": "markdown",
   "metadata": {},
   "source": [
    "## Hack 2"
   ]
  },
  {
   "cell_type": "code",
   "execution_count": 23,
   "metadata": {},
   "outputs": [
    {
     "name": "stdout",
     "output_type": "stream",
     "text": [
      "190.3 is the final cost after tax\n"
     ]
    }
   ],
   "source": [
    "cost = 173\n",
    "tax = .10\n",
    "\n",
    "fullPrice = cost + (cost * tax)\n",
    "\n",
    "print(fullPrice, \"is the final cost after tax\")"
   ]
  },
  {
   "cell_type": "markdown",
   "metadata": {},
   "source": [
    "What I did here is define cost at what the given value was. Then I defined tax as .10 due to the fact that it is 10% of the costs value or .10 of it. Then i defined fullPrice as cost as well as adding the cost times tax to it to find the two values of cost and true tax. After, I have a simple print statement which displays our new variable"
   ]
  },
  {
   "cell_type": "markdown",
   "metadata": {},
   "source": [
    "## Hack 3"
   ]
  },
  {
   "cell_type": "code",
   "execution_count": 63,
   "metadata": {},
   "outputs": [
    {
     "name": "stdout",
     "output_type": "stream",
     "text": [
      "39.44444444444444 is 103 Fahrenheit in Celsius\n"
     ]
    }
   ],
   "source": [
    "tempFar = 103\n",
    "\n",
    "def convert():\n",
    "    global tempFar\n",
    "    tempFar = tempFar - 32\n",
    "    tempFar = tempFar * 5/9\n",
    "    print(tempFar, \"is 103 Fahrenheit in Celsius\")\n",
    "\n",
    "convert()\n"
   ]
  },
  {
   "cell_type": "markdown",
   "metadata": {},
   "source": [
    "Here I defined tempFar as the Fahrenheit given degrees. I then made a function called convert() which goes through converting the math of tempFar automatically. It globally calls on tempFar then puts it through some math. After it prints out along with the sentence"
   ]
  },
  {
   "cell_type": "markdown",
   "metadata": {},
   "source": [
    "## Hack 4"
   ]
  },
  {
   "cell_type": "markdown",
   "metadata": {},
   "source": [
    "    PROCEDURE updateStats(toprbyardspg, currentrbyards, totalGames)\n",
    "    {\n",
    "        topyardspg = 100\n",
    "        currentrbyards = 1260\n",
    "        totalGames = 12\n",
    "\n",
    "        currentrbyardspg = currentrbyards/totalGames\n",
    "\n",
    "        if currentrbyardspg > topyardspg:\n",
    "            topyardspg = currentrbyardspg\n",
    "    }"
   ]
  },
  {
   "cell_type": "markdown",
   "metadata": {},
   "source": [
    "Whats happening here is first defining the variables. After, we have to introduce a new variable to get an accurate detail of topyardspg vs currentyardspg. Under the impression it does, the if statement activates and replaces the value."
   ]
  },
  {
   "cell_type": "markdown",
   "metadata": {},
   "source": [
    "## Procedure 1"
   ]
  },
  {
   "cell_type": "markdown",
   "metadata": {},
   "source": [
    "    PROCEDURE myList(canForwards)\n",
    "        {\n",
    "            i = 0\n",
    "            if i < 6\n",
    "                if canForwards:\n",
    "                    moveForwards()\n",
    "                    i += 1\n",
    "                else:\n",
    "                    rotateRight()\n",
    "                    moveForwards()\n",
    "                    rotateLeft()\n",
    "                    i += 1\n",
    "            moveForwards()\n",
    "            moveForwards()\n",
    "            rotateleft()\n",
    "            moveForwards()\n",
    "            moveForwards()\n",
    "            rotateRight()\n",
    "            moveForwards()\n",
    "            rotateLeft()\n",
    "            moveForwards()\n",
    "            moveForwards()\n",
    "        }\n",
    "\n",
    "The procedure would be called \"PROCEDURE myList\""
   ]
  },
  {
   "cell_type": "markdown",
   "metadata": {},
   "source": [
    "This procedure runs though the loop 6 times as that was the only seeable pattern I could find. After that, I put it through a series of calls that would get it to the finish line"
   ]
  },
  {
   "cell_type": "markdown",
   "metadata": {},
   "source": [
    "## Procedure 2"
   ]
  },
  {
   "cell_type": "markdown",
   "metadata": {},
   "source": [
    "    PROCEDURE beachRace(canForwards, atFinish):\n",
    "\n",
    "    finish = false\n",
    "\n",
    "    while finish = false:\n",
    "        if canForwards:\n",
    "            moveForwards()\n",
    "        else:\n",
    "            rotateLeft()\n",
    "            moveForwards\n",
    "            rotateRight()\n",
    "        if atFinish:\n",
    "            finish = true\n",
    "            break\n"
   ]
  },
  {
   "cell_type": "markdown",
   "metadata": {},
   "source": [
    "I made a simple procedure that defines finish as false at first. What this does is the while loop will run infinitely until the conditions are met. Although, eventually they will."
   ]
  }
 ],
 "metadata": {
  "kernelspec": {
   "display_name": "Python 3.8.2 64-bit",
   "language": "python",
   "name": "python3"
  },
  "language_info": {
   "codemirror_mode": {
    "name": "ipython",
    "version": 3
   },
   "file_extension": ".py",
   "mimetype": "text/x-python",
   "name": "python",
   "nbconvert_exporter": "python",
   "pygments_lexer": "ipython3",
   "version": "3.8.2"
  },
  "orig_nbformat": 4,
  "vscode": {
   "interpreter": {
    "hash": "31f2aee4e71d21fbe5cf8b01ff0e069b9275f58929596ceb00d14d90e3e16cd6"
   }
  }
 },
 "nbformat": 4,
 "nbformat_minor": 2
}
