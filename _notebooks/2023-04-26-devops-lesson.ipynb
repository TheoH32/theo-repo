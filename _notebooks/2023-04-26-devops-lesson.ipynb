{
 "cells": [
  {
   "attachments": {},
   "cell_type": "markdown",
   "metadata": {},
   "source": [
    "# DevOps Lesson\n",
    "\n",
    "- toc: true\n",
    "- categories: []\n",
    "- type: pbl"
   ]
  },
  {
   "cell_type": "code",
   "execution_count": 3,
   "metadata": {},
   "outputs": [
    {
     "name": "stdout",
     "output_type": "stream",
     "text": [
      "142.250.189.14\n"
     ]
    }
   ],
   "source": [
    "import socket\n",
    "\n",
    "# Change the following host and see what IP it prints!\n",
    "host = \"google.com\"\n",
    "ip = socket.gethostbyname(host)\n",
    "\n",
    "print(ip)"
   ]
  },
  {
   "cell_type": "code",
   "execution_count": 4,
   "metadata": {},
   "outputs": [
    {
     "name": "stdout",
     "output_type": "stream",
     "text": [
      "Successfully connected!\n"
     ]
    }
   ],
   "source": [
    "# Initiate a TCP connection to port 80\n",
    "with socket.socket(socket.AF_INET, socket.SOCK_STREAM) as s:\n",
    "    s.connect((ip, 80))\n",
    "    print(\"Successfully connected!\")"
   ]
  },
  {
   "attachments": {},
   "cell_type": "markdown",
   "metadata": {},
   "source": [
    "## Check-In\n",
    "\n",
    "1. What is an IP address?\n",
    "2. What is a TCP port?"
   ]
  },
  {
   "cell_type": "code",
   "execution_count": 6,
   "metadata": {},
   "outputs": [
    {
     "name": "stdout",
     "output_type": "stream",
     "text": [
      "HTTP/1.1 200 OK\n",
      "Date: Thu, 27 Apr 2023 22:04:54 GMT\n",
      "Expires: -1\n",
      "Cache-Control: private, max-age=0\n",
      "Content-Type: text/html; charset=ISO-8859-1\n",
      "Content-Security-Policy-Report-Only: object-src 'none';base-uri 'self';script-src 'nonce-qjH_lvwALNenvk_qckl6Qw' 'strict-dynamic' 'report-sample' 'unsafe-eval' 'unsafe-inline' https: http:;report-uri https://csp.withgoogle.com/csp/gws/other-hp\n",
      "P3P: CP=\"This is not a P3P policy! See g.co/p3phelp for more info.\"\n",
      "Server: gws\n",
      "X-XSS-Protection: 0\n",
      "X-Frame-Options: SAMEORIGIN\n",
      "Set-Cookie: 1P_JAR=2023-04-27-22; expires=Sat, 27-May-2023 22:04:54 GMT; path=/; domain=.google.com; Secure\n",
      "Set-Cookie: AEC=AUEFqZfmPVg1tZ_4OYbo-krQf7JIQd4wo0i5YR-8sAR-wzOo1eZ9_l4oGSE; expires=Tue, 24-Oct-2023 22:04:54 GMT; path=/; domain=.google.com; Secure; HttpOnly; SameSite=lax\n",
      "Set-Cookie: NID=511=oULOS7XWtPQsz9ydIb8q_9VIA0bAziMagTz007aumwhfdvotBsFf2lwKyvmi5OpqI91JroSVFI9argGPWne0h2ZZdnN6KTavyHoN_nc2GWbVVXjTYBWuqa6S84JC2zKTorsyJZZngW05s29KCwNRQ_SH8GWKb-W4BRwGarb9zME; expires=Fri, 27-Oct-2023 22:04:54 GMT; path=/; domain=.google.com; HttpOnly\n",
      "Accept-Ranges: none\n",
      "Vary: Accept-Encoding\n",
      "Transfer-Encoding: chunked\n",
      "\n",
      "57ba\n",
      "<!doctype html><html itemscope=\"\" itemtype=\"http://schema.org/WebPage\" lang=\"en\"><head><meta content=\"Search the world's information, including webpages, images, videos and more. Google has many special features to help you find exactly what you're looking for.\" name=\"description\"><meta content=\"noodp\" name=\"robots\"><meta content=\"text/html; charset=UTF-8\" http-equiv=\"Content-Type\"><meta content=\"/images/branding/googleg/1x/googleg_standard_color_128dp.png\" itemprop=\"image\"><title>Google</title><script nonce=\"qjH_lvwALNenvk_qckl6Qw\">(function(){window.google={kEI:'hvFKZLrIF-XAkPIP98uAiAw',kEXPI:'0,18167,184443,1156799,6058,207,4804,2316,383,246,5,1129120,1197762,632,302568,77528,16115,28684,22430,1362,12311,2824,1930,12834,4998,13228,3847,6884,31560,887,1985,2891,3926,213,4209,3406,606,29842,30848,15324,432,3,1590,1,16916,2652,4,1528,2304,923,28139,13065,13658,2980,1457,16786,\n"
     ]
    }
   ],
   "source": [
    "with socket.socket(socket.AF_INET, socket.SOCK_STREAM) as s:\n",
    "    s.connect((ip, 80))\n",
    "\n",
    "    # Send a GET request to \"/\"\n",
    "    s.sendall(b\"GET / HTTP/1.1\\r\\n\\r\\n\")\n",
    "\n",
    "    # Recieve & print 2048 bytes of data\n",
    "    data = s.recv(2048)\n",
    "    print(data.decode())"
   ]
  },
  {
   "cell_type": "code",
   "execution_count": 7,
   "metadata": {},
   "outputs": [
    {
     "name": "stdout",
     "output_type": "stream",
     "text": [
      "Status code: 200\n",
      "Headers: {'Date': 'Thu, 27 Apr 2023 22:04:57 GMT', 'Expires': '-1', 'Cache-Control': 'private, max-age=0', 'Content-Type': 'text/html; charset=ISO-8859-1', 'Content-Security-Policy-Report-Only': \"object-src 'none';base-uri 'self';script-src 'nonce-JC5SqUuWOlDNHbYo1IZZMQ' 'strict-dynamic' 'report-sample' 'unsafe-eval' 'unsafe-inline' https: http:;report-uri https://csp.withgoogle.com/csp/gws/other-hp\", 'P3P': 'CP=\"This is not a P3P policy! See g.co/p3phelp for more info.\"', 'Content-Encoding': 'gzip', 'Server': 'gws', 'X-XSS-Protection': '0', 'X-Frame-Options': 'SAMEORIGIN', 'Set-Cookie': '1P_JAR=2023-04-27-22; expires=Sat, 27-May-2023 22:04:57 GMT; path=/; domain=.google.com; Secure, AEC=AUEFqZfOburHYoih5mZwrgHUbEnv7tmdooB1zdz0nHvIdxYpF-bgOlqOGA; expires=Tue, 24-Oct-2023 22:04:57 GMT; path=/; domain=.google.com; Secure; HttpOnly; SameSite=lax, NID=511=FVhXkqK485TFIuqI1diBXz-vKIyvGqwLs6AlylN9H81rURYms43TWKlIH0vCiPhm6Sbfm9B182sk_b6vzhvGuoYkFg9w50MdMSr9E08PBTcz97Fhws8nQ_7EDhXYH1GyD5kJGBwftB3nbMIJcC-V00-6eLvuSKCkIyQ7V5lu0M0; expires=Fri, 27-Oct-2023 22:04:57 GMT; path=/; domain=.google.com; HttpOnly', 'Alt-Svc': 'h3=\":443\"; ma=2592000,h3-29=\":443\"; ma=2592000', 'Transfer-Encoding': 'chunked'}\n",
      "Response text: <!doctype html><html itemscope=\"\" itemtype=\"http://schema.org/WebPage\" lang=\"en\"><head><meta content\n"
     ]
    }
   ],
   "source": [
    "import requests\n",
    "\n",
    "# Change the URL to whatever you'd like\n",
    "response = requests.get(\"https://google.com\")\n",
    "\n",
    "print(\"Status code:\", response.status_code)\n",
    "print(\"Headers:\", response.headers)\n",
    "print(\"Response text:\", response.text[:100])\n",
    "\n",
    "# Add a line to print the \"Content-Type\" header of the response\n",
    "# Try an image URL!"
   ]
  },
  {
   "attachments": {},
   "cell_type": "markdown",
   "metadata": {},
   "source": [
    "# NGINX"
   ]
  },
  {
   "cell_type": "code",
   "execution_count": 8,
   "metadata": {},
   "outputs": [
    {
     "name": "stdout",
     "output_type": "stream",
     "text": [
      "<html><head><title>ContentKeeper</title></heQad>\n",
      "<body bgcolor=\"#A02E5F\" text=\"White\" link=\"Lime\" vlink=\"Aqua\">\n",
      "<center><br><h1>ContentKeeper<br>Non-Managed Site</h1>\n",
      "No access is available to NON-Managed Sites.<br><br>\n",
      "<table border=\"1\" cellspacing=\"0\">\n",
      "<tr><td>URL</td><td><b>3.130.255.192</b></td></tr>\n",
      "<tr><td>Username</td><td><b>1900706/pusd</b></td></tr></table>\n",
      "</body></html>\n",
      "\n"
     ]
    }
   ],
   "source": [
    "aws = \"3.130.255.192\"\n",
    "\n",
    "response = requests.get(\"http://\" + aws)\n",
    "print(response.text)\n"
   ]
  },
  {
   "attachments": {},
   "cell_type": "markdown",
   "metadata": {},
   "source": [
    "## Configuration\n",
    "\n",
    "```nginx\n",
    "server {\n",
    "    // Listen on virtual \"port 80\"\n",
    "    listen 80;\n",
    "    listen [::]:80;\n",
    "    server_name 3.130.255.192;\n",
    "\n",
    "    location / {\n",
    "        // Inform server about original client\n",
    "        proxy_set_header        Host $host;\n",
    "        proxy_set_header        X-Real-IP $remote_addr;\n",
    "        proxy_set_header        X-Forwarded-For $proxy_add_x_forwarded_for;\n",
    "        proxy_set_header        X-Forwarded-Proto $scheme;\n",
    "\n",
    "        // Forward all requests transparently to the server running on our computer\n",
    "        proxy_pass              http://localhost:8080;\n",
    "\n",
    "        add_header Date $date_gmt;\n",
    "\n",
    "    }\n",
    "}\n",
    "```\n",
    "\n",
    "### Load Balancing\n",
    "\n",
    "```nginx\n",
    "upstream example.com {\n",
    "    server server1.example.com;\n",
    "    server server1.example.com;\n",
    "}\n",
    "```\n",
    "\n",
    "### HTTP Headers\n",
    "\n",
    "```nginx\n",
    "server {\n",
    "    add_header X-Cool-Header \"I love APCSP!\";\n",
    "\n",
    "    location /pages {\n",
    "        add_header X-Cooler-Header \"This is my secret header!\";\n",
    "    }\n",
    "}\n",
    "```\n",
    "\n",
    "## Check In\n",
    "\n",
    "1. Research 1 HTTP header and describe, in detail, its purpose.\n",
    "\n",
    "    ### Like shown above, date is a header, it's purpose is to show the date\n",
    "\n",
    "2. Write a line in a sample NGINX configuration that will add that specific header to the `/information` location\n",
    "\n",
    "    ### \"add_header Date $date_gmt;\"\n",
    "\n",
    "3. Explain the purpose of the load balancing performed by NGINX\n",
    "\n",
    "    ### As NGINX works as a reverse proxy, load balancing is vital to distribute traffic across and make everything run smoother\n",
    "\n",
    "4. Modify the following code block to obtain the value of the secret header on `/products` of the AWS site\n"
   ]
  },
  {
   "cell_type": "code",
   "execution_count": 12,
   "metadata": {},
   "outputs": [
    {
     "name": "stdout",
     "output_type": "stream",
     "text": [
      "The secret header is: This is my secret header!\n"
     ]
    }
   ],
   "source": [
    "aws = \"3.130.255.192\"\n",
    "\n",
    "response = requests.get(\"http://\" + aws+ \"/products\")\n",
    "\n",
    "print(\"The secret header is:\", response.headers['X-Cooler-Header'])"
   ]
  },
  {
   "attachments": {},
   "cell_type": "markdown",
   "metadata": {},
   "source": [
    "# Hacks\n",
    "\n",
    "- Complete the above check-in questions and change the hosts (0.1)\n",
    "\n",
    "    #### I dont know if I did it right but I tried\n",
    "\n",
    "- Complete the above code-segment to retrieve the secret header (0.1)\n",
    "\n",
    "    #### got the secret header\n",
    "\n",
    "## Bonus (0.05)\n",
    "\n",
    "Create a diagram showing the layers of abstraction that allow us to use HTTP (IP, TCP, etc.)\n",
    "\n"
   ]
  },
  {
   "attachments": {},
   "cell_type": "markdown",
   "metadata": {},
   "source": [
    "# CORS Hacks\n",
    "\n",
    "1. Explain what CORS is and what it stands for\n",
    "\n",
    "    ### Cross-Origin Resource Sharing, its a request to access from a site. It is a security feature to block malicious data.\n",
    "\n",
    "2. Describe how you would be able to implement CORS into your own websites\n",
    "\n",
    "    ### You have to include CORS in you header and make sure everything matches to what you desire\n",
    "\n",
    "3. Describe why you would want to implement CORS into your own websites\n",
    "\n",
    "    ### To protect your users from sending or receiving harmful data\n",
    "\n",
    "4. How could use CORS to benefit yourself in the future?\n",
    "\n",
    "    ### I could use it in one of my future projects to add a layer of security to protect my users.\n",
    "\n",
    "Total: 0.2 points\n",
    "\n",
    "# KASM Hacks\n",
    "\n",
    "1. What is the purpose of \"sudo\" when running commands in terminal?\n",
    "\n",
    "    ### adding sudo makes it have admin access\n",
    "\n",
    "2. What are some commands which allow us to look at how the storage of a machine is set up as?\n",
    "\n",
    "    ### The most common one that is used is \"df\". Some others one are \"du\", \"fdisk\", and \"parted\"\n",
    "\n",
    "3. What do you think are some alternatives to running \"curl -O\" to get the zip file for KASM?\n",
    "\n",
    "    ### Using wget is probably the easiest and fast. You can always download the file or run another type of command.\n",
    "\n",
    "4. What kind of commands do you think the \"install.sh\" command has and why is it necessary to call it?\n",
    "\n",
    "    ### It has all types of configs and necessary files that you have to install in order for KASM and other apps to work\n",
    "\n",
    "5. Explain in at least 3-4 sentences how deploying KASM is related to/requires other topics talked about in the lesson and/or potential ways to add things mentioned in the lesson to this guide.\n",
    "\n",
    "    ### Deploying KASM requires a good understanding of some of the things we learned about. Knowing how to configure KASM is important cause you want to keep malware out. You also need to know some things about kernals because each function differently and relate to usage of KASM. You need to also know how to implement KASM into pre-existing programs as its gonna be a different situation for every project\n",
    "\n",
    "\n",
    "Total: 0.2 points"
   ]
  }
 ],
 "metadata": {
  "kernelspec": {
   "display_name": "Python 3.10.9 64-bit",
   "language": "python",
   "name": "python3"
  },
  "language_info": {
   "codemirror_mode": {
    "name": "ipython",
    "version": 3
   },
   "file_extension": ".py",
   "mimetype": "text/x-python",
   "name": "python",
   "nbconvert_exporter": "python",
   "pygments_lexer": "ipython3",
   "version": "3.10.9"
  },
  "orig_nbformat": 4,
  "vscode": {
   "interpreter": {
    "hash": "aee8b7b246df8f9039afb4144a1f6fd8d2ca17a180786b69acc140d282b71a49"
   }
  }
 },
 "nbformat": 4,
 "nbformat_minor": 2
}
