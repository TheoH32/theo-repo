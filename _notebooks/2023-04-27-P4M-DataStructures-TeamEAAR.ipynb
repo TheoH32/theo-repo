{
 "cells": [
  {
   "attachments": {},
   "cell_type": "markdown",
   "metadata": {},
   "source": [
    "# Data Structures Hacks\n",
    "> A guide to data structures such as lists, dictionaries, 2D arrays, and iteration\n",
    "  \n",
    "- title: Data Structures Guide\n",
    "- author: Team EAAR, Ethan Tran, Alex Kumar, Advay Shindikar, Amay Advani, Rohin Sood"
   ]
  },
  {
   "attachments": {},
   "cell_type": "markdown",
   "metadata": {},
   "source": [
    "## Hacks (0.3)\n",
    "\n",
    "- Make your own list and manipulate it via accessing specific elements, adding or removing elements, etc.\n",
    "- Extra: Make an interactable visualization that can manipulate elements in a list such as the one demonstrated in our flask repository"
   ]
  },
  {
   "cell_type": "markdown",
   "metadata": {},
   "source": [
    "# Append and remove"
   ]
  },
  {
   "cell_type": "code",
   "execution_count": 21,
   "metadata": {},
   "outputs": [
    {
     "name": "stdout",
     "output_type": "stream",
     "text": [
      "['Apex', 'Fortnite', 'Rocket League', 'PubG']\n",
      "['Apex', 'Fortnite', 'Rocket League']\n"
     ]
    }
   ],
   "source": [
    "games = [\"Apex\", \"Fortnite\", \"Rocket League\"]\n",
    "games.append(\"PubG\")\n",
    "print(games)\n",
    "games.remove(\"PubG\")\n",
    "print(games)"
   ]
  },
  {
   "cell_type": "markdown",
   "metadata": {},
   "source": [
    "# Insert and Modify"
   ]
  },
  {
   "cell_type": "code",
   "execution_count": 10,
   "metadata": {},
   "outputs": [
    {
     "name": "stdout",
     "output_type": "stream",
     "text": [
      "['Apex', 'Clash Royale', 'Fortnite', 'Rocket League']\n",
      "['Apex', 'Brawl Stars', 'Fortnite', 'Rocket League']\n"
     ]
    }
   ],
   "source": [
    "games = [\"Apex\", \"Fortnite\", \"Rocket League\"]\n",
    "games.insert(1,\"Clash Royale\")\n",
    "print(games)\n",
    "games[1] = \"Brawl Stars\"\n",
    "print(games)"
   ]
  },
  {
   "cell_type": "markdown",
   "metadata": {},
   "source": [
    "# Pop and Clear"
   ]
  },
  {
   "cell_type": "code",
   "execution_count": 12,
   "metadata": {},
   "outputs": [
    {
     "name": "stdout",
     "output_type": "stream",
     "text": [
      "['Apex', 'Rocket League']\n",
      "[]\n"
     ]
    }
   ],
   "source": [
    "games = [\"Apex\", \"Fortnite\", \"Rocket League\"]\n",
    "games.pop(1)\n",
    "print(games)\n",
    "games.clear()\n",
    "print(games)"
   ]
  },
  {
   "attachments": {},
   "cell_type": "markdown",
   "metadata": {},
   "source": [
    "## Popcorn hack (0.3)\n",
    "\n",
    "- Make a list related to your CPT project\n",
    "- Make a while loop that will print each term in the list\n",
    "- Make a for loop that will print each term in the list\n",
    "\n",
    "Simulation mechanics\n",
    "\n",
    "- In Python, pop() is a method that is used to remove and return an element from a list. The syntax for using pop() is as follows:"
   ]
  },
  {
   "cell_type": "code",
   "execution_count": 6,
   "metadata": {},
   "outputs": [
    {
     "name": "stdout",
     "output_type": "stream",
     "text": [
      "WHILE LOOP:\n",
      "\n",
      "red\n",
      "green\n",
      "blue\n",
      "purple\n",
      "orange\n",
      "\n",
      "\n",
      "FOR LOOP:\n",
      "\n",
      "red\n",
      "green\n",
      "blue\n",
      "purple\n",
      "orange\n"
     ]
    }
   ],
   "source": [
    "colors = [\"red\", \"green\", \"blue\", \"purple\", \"orange\"]\n",
    "\n",
    "def whileLoop():\n",
    "    print(\"WHILE LOOP:\\n\")\n",
    "    # i is the iteration variable\n",
    "    # num is regarding the index\n",
    "    i = 0\n",
    "    num = 0\n",
    "    # While loop\n",
    "    while i<5:\n",
    "        i = i +1\n",
    "        # printing color of specified index\n",
    "        print(colors[num])\n",
    "        # adding to go down index\n",
    "        num = num +1\n",
    "whileLoop()\n",
    "\n",
    "print(\"\")\n",
    "print(\"\")\n",
    "\n",
    "\n",
    "\n",
    "def forLoop():\n",
    "    print(\"FOR LOOP:\\n\")\n",
    "    # for each color in the list, print\n",
    "    for x in colors:\n",
    "        print(x)\n",
    "forLoop()"
   ]
  }
 ],
 "metadata": {
  "kernelspec": {
   "display_name": "Python 3.10.9 64-bit",
   "language": "python",
   "name": "python3"
  },
  "language_info": {
   "codemirror_mode": {
    "name": "ipython",
    "version": 3
   },
   "file_extension": ".py",
   "mimetype": "text/x-python",
   "name": "python",
   "nbconvert_exporter": "python",
   "pygments_lexer": "ipython3",
   "version": "3.10.9"
  },
  "orig_nbformat": 4,
  "vscode": {
   "interpreter": {
    "hash": "aee8b7b246df8f9039afb4144a1f6fd8d2ca17a180786b69acc140d282b71a49"
   }
  }
 },
 "nbformat": 4,
 "nbformat_minor": 2
}
